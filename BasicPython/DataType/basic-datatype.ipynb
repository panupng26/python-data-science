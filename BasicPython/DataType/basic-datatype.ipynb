{
 "cells": [
  {
   "cell_type": "code",
   "execution_count": 38,
   "id": "97668047",
   "metadata": {},
   "outputs": [
    {
     "data": {
      "text/plain": [
       "2"
      ]
     },
     "execution_count": 38,
     "metadata": {},
     "output_type": "execute_result"
    }
   ],
   "source": [
    "1 + 1"
   ]
  },
  {
   "cell_type": "code",
   "execution_count": 32,
   "id": "52dafa31",
   "metadata": {},
   "outputs": [
    {
     "data": {
      "text/plain": [
       "3"
      ]
     },
     "execution_count": 32,
     "metadata": {},
     "output_type": "execute_result"
    }
   ],
   "source": [
    "1 * 3"
   ]
  },
  {
   "cell_type": "code",
   "execution_count": 33,
   "id": "a55edf48",
   "metadata": {},
   "outputs": [
    {
     "data": {
      "text/plain": [
       "0.5"
      ]
     },
     "execution_count": 33,
     "metadata": {},
     "output_type": "execute_result"
    }
   ],
   "source": [
    "1 / 2"
   ]
  },
  {
   "cell_type": "code",
   "execution_count": 34,
   "id": "9450d2a0",
   "metadata": {},
   "outputs": [
    {
     "data": {
      "text/plain": [
       "0.5"
      ]
     },
     "execution_count": 34,
     "metadata": {},
     "output_type": "execute_result"
    }
   ],
   "source": [
    "1 / 2.0"
   ]
  },
  {
   "cell_type": "code",
   "execution_count": 35,
   "id": "7fb82dc5",
   "metadata": {},
   "outputs": [
    {
     "data": {
      "text/plain": [
       "16"
      ]
     },
     "execution_count": 35,
     "metadata": {},
     "output_type": "execute_result"
    }
   ],
   "source": [
    "2 ** 4"
   ]
  },
  {
   "cell_type": "code",
   "execution_count": 36,
   "id": "824ae119",
   "metadata": {},
   "outputs": [
    {
     "data": {
      "text/plain": [
       "0"
      ]
     },
     "execution_count": 36,
     "metadata": {},
     "output_type": "execute_result"
    }
   ],
   "source": [
    "4 % 2"
   ]
  },
  {
   "cell_type": "code",
   "execution_count": 7,
   "id": "2180f85b",
   "metadata": {},
   "outputs": [
    {
     "data": {
      "text/plain": [
       "1"
      ]
     },
     "execution_count": 7,
     "metadata": {},
     "output_type": "execute_result"
    }
   ],
   "source": [
    "5 % 2"
   ]
  },
  {
   "cell_type": "code",
   "execution_count": 17,
   "id": "6b87dce6",
   "metadata": {},
   "outputs": [
    {
     "name": "stdout",
     "output_type": "stream",
     "text": [
      "The variable, string is of type:  <class 'str'>\n",
      "concat string some Test String kub\n"
     ]
    }
   ],
   "source": [
    "string = \"Test String kub\"\n",
    "print(\"The variable, string is of type: \", type(string))\n",
    "print('concat string some ' + string)"
   ]
  },
  {
   "cell_type": "code",
   "execution_count": 28,
   "id": "99cf82e8",
   "metadata": {},
   "outputs": [
    {
     "name": "stdout",
     "output_type": "stream",
     "text": [
      "The variable boolean is of type:  <class 'bool'>\n",
      "boolean: False\n",
      "condition 1 -->  True\n",
      "condition 2 --> False\n"
     ]
    }
   ],
   "source": [
    "boolean = False\n",
    "true_condition_bool = True == 1\n",
    "false_condition_bool = True == 0\n",
    "print(\"The variable boolean is of type: \", type(boolean))\n",
    "print('boolean: ' + str(boolean))\n",
    "print('condition 1 --> ', true_condition_bool)\n",
    "print('condition 2 -->', false_condition_bool)"
   ]
  },
  {
   "cell_type": "code",
   "execution_count": 40,
   "id": "21586236",
   "metadata": {},
   "outputs": [
    {
     "name": "stdout",
     "output_type": "stream",
     "text": [
      "The variable listVariable is of type:  <class 'list'>\n",
      "list:  [1, 2, 3]\n"
     ]
    }
   ],
   "source": [
    "listVariable = [1,2,3]\n",
    "\n",
    "print('The variable listVariable is of type: ', type(listVariable))\n",
    "print('list: ', listVariable)"
   ]
  },
  {
   "cell_type": "code",
   "execution_count": 57,
   "id": "6323cf32",
   "metadata": {},
   "outputs": [
    {
     "name": "stdout",
     "output_type": "stream",
     "text": [
      "The variable my_list is of type:  <class 'list'>\n",
      "my_list:  ['a', 'b', 'c']\n",
      "my_list after append:  ['a', 'b', 'c', 'd']\n",
      "list of 0 -->  a\n",
      "list of 1:  ['b', 'c', 'd']\n",
      "list of -1  d\n",
      "list of :-1  ['a', 'b', 'c']\n",
      "-------change list--------\n",
      "my_list:  ['New', 'b', 'c', 'd']\n"
     ]
    }
   ],
   "source": [
    "# list type\n",
    "my_list = ['a','b','c']\n",
    "print('The variable my_list is of type: ', type(my_list))\n",
    "print('my_list: ', my_list)\n",
    "my_list.append('d')\n",
    "print('my_list after append: ', my_list)\n",
    "print('list of 0 --> ', my_list[0])\n",
    "print('list of 1: ', my_list[1:])\n",
    "print('list of -1 ', my_list[-1])\n",
    "print('list of :-1 ', my_list[:-1])\n",
    "print('-------change list--------')\n",
    "my_list[0] = 'New'\n",
    "print('my_list: ', my_list)"
   ]
  },
  {
   "cell_type": "code",
   "execution_count": 61,
   "id": "5255efb8",
   "metadata": {},
   "outputs": [
    {
     "name": "stdout",
     "output_type": "stream",
     "text": [
      "The variable dic_val is of type:  <class 'dict'>\n",
      "dic_val:  {'key1': 'item1'}\n",
      "dic_val['key1']:  item1\n"
     ]
    }
   ],
   "source": [
    "# dictionary type\n",
    "dic_val = {'key1' : \"item1\"}\n",
    "print('The variable dic_val is of type: ', type(dic_val))\n",
    "print('dic_val: ', dic_val)\n",
    "print('dic_val[\\'key1\\']: ', dic_val['key1'])\n",
    "\n",
    "\n"
   ]
  },
  {
   "cell_type": "code",
   "execution_count": 62,
   "id": "6a5fd778",
   "metadata": {},
   "outputs": [
    {
     "data": {
      "text/plain": [
       "{1, 2, 3}"
      ]
     },
     "execution_count": 62,
     "metadata": {},
     "output_type": "execute_result"
    }
   ],
   "source": [
    "#set object\n",
    "{1,2,3}"
   ]
  },
  {
   "cell_type": "code",
   "execution_count": 63,
   "id": "9c9dc1b7",
   "metadata": {},
   "outputs": [
    {
     "data": {
      "text/plain": [
       "{1, 2, 3}"
      ]
     },
     "execution_count": 63,
     "metadata": {},
     "output_type": "execute_result"
    }
   ],
   "source": [
    "{1,1,1,2,3}"
   ]
  },
  {
   "cell_type": "code",
   "execution_count": 64,
   "id": "83c8191c",
   "metadata": {},
   "outputs": [
    {
     "name": "stdout",
     "output_type": "stream",
     "text": [
      "1\n",
      "2\n",
      "3\n",
      "4\n",
      "5\n"
     ]
    }
   ],
   "source": [
    "# for loop\n",
    "seq = [1,2,3,4,5]\n",
    "for item in seq:\n",
    "    print(item)"
   ]
  },
  {
   "cell_type": "code",
   "execution_count": null,
   "id": "198400c1",
   "metadata": {},
   "outputs": [],
   "source": [
    "for item in seq:\n",
    "    print('yes')"
   ]
  },
  {
   "cell_type": "code",
   "execution_count": 1,
   "id": "886f06f5",
   "metadata": {},
   "outputs": [
    {
     "name": "stdout",
     "output_type": "stream",
     "text": [
      "10\n",
      "11\n",
      "12\n",
      "13\n",
      "14\n",
      "end la ja\n"
     ]
    }
   ],
   "source": [
    "i = 10\n",
    "while (i < 15):\n",
    "    print(i)\n",
    "    i+=1\n",
    "\n",
    "print('end la ja')"
   ]
  },
  {
   "cell_type": "code",
   "execution_count": 2,
   "id": "942044c9",
   "metadata": {},
   "outputs": [
    {
     "data": {
      "text/plain": [
       "range(0, 5)"
      ]
     },
     "execution_count": 2,
     "metadata": {},
     "output_type": "execute_result"
    }
   ],
   "source": [
    "range(5)"
   ]
  },
  {
   "cell_type": "code",
   "execution_count": 3,
   "id": "1587542a",
   "metadata": {},
   "outputs": [
    {
     "name": "stdout",
     "output_type": "stream",
     "text": [
      "0\n",
      "1\n",
      "2\n",
      "3\n",
      "4\n"
     ]
    }
   ],
   "source": [
    "for i in range(5):\n",
    "    print(i)"
   ]
  },
  {
   "cell_type": "code",
   "execution_count": 4,
   "id": "b03e55b8",
   "metadata": {},
   "outputs": [
    {
     "data": {
      "text/plain": [
       "[0, 1, 2, 3, 4]"
      ]
     },
     "execution_count": 4,
     "metadata": {},
     "output_type": "execute_result"
    }
   ],
   "source": [
    "list (range(5))"
   ]
  },
  {
   "cell_type": "code",
   "execution_count": 5,
   "id": "612a33ec",
   "metadata": {},
   "outputs": [],
   "source": [
    "# map\n",
    "# filter\n",
    "# map and filter\n",
    "a = [1,2,3,4]"
   ]
  },
  {
   "cell_type": "code",
   "execution_count": 6,
   "id": "6538ed17",
   "metadata": {},
   "outputs": [
    {
     "name": "stdout",
     "output_type": "stream",
     "text": [
      "[1, 1, 1, 4]\n"
     ]
    }
   ],
   "source": [
    "# map\n",
    "a = [11,21,31,4]\n",
    "b = []\n",
    "for e in a:\n",
    "    b.append(e % 10)\n",
    "print(b)"
   ]
  },
  {
   "cell_type": "code",
   "execution_count": 7,
   "id": "985ca4fb",
   "metadata": {},
   "outputs": [
    {
     "name": "stdout",
     "output_type": "stream",
     "text": [
      "['Thailand', 'Traffic']\n"
     ]
    }
   ],
   "source": [
    "#filter\n",
    "a = ['Thailand', 'Car', 'Traffic']\n",
    "b = []\n",
    "for e in a :\n",
    "    if len(e) > 5:\n",
    "        b.append(e)\n",
    "        \n",
    "print(b)"
   ]
  },
  {
   "cell_type": "code",
   "execution_count": 8,
   "id": "e337f188",
   "metadata": {},
   "outputs": [
    {
     "name": "stdout",
     "output_type": "stream",
     "text": [
      "[30.48, 254.0, 45.72]\n"
     ]
    }
   ],
   "source": [
    "a = [12, 5, 100, 18, 5]\n",
    "b = []\n",
    "for e in a :\n",
    "    if e > 10 :\n",
    "        b.append(2.54 * e)\n",
    "print(b)"
   ]
  },
  {
   "cell_type": "code",
   "execution_count": 9,
   "id": "2e495eb2",
   "metadata": {},
   "outputs": [
    {
     "data": {
      "text/plain": [
       "9"
      ]
     },
     "execution_count": 9,
     "metadata": {},
     "output_type": "execute_result"
    }
   ],
   "source": [
    "def square(x):\n",
    "    ans = x*x\n",
    "    return ans\n",
    "\n",
    "square(3)"
   ]
  },
  {
   "cell_type": "code",
   "execution_count": 10,
   "id": "d529f9ff",
   "metadata": {},
   "outputs": [
    {
     "data": {
      "text/plain": [
       "144"
      ]
     },
     "execution_count": 10,
     "metadata": {},
     "output_type": "execute_result"
    }
   ],
   "source": [
    "square(12)"
   ]
  },
  {
   "cell_type": "code",
   "execution_count": 15,
   "id": "9d2ea790",
   "metadata": {},
   "outputs": [],
   "source": [
    "def average(a,b,c):\n",
    "    s = (a + b + c) / 3\n",
    "    return s"
   ]
  },
  {
   "cell_type": "code",
   "execution_count": 16,
   "id": "ce0ef723",
   "metadata": {},
   "outputs": [
    {
     "data": {
      "text/plain": [
       "2.0"
      ]
     },
     "execution_count": 16,
     "metadata": {},
     "output_type": "execute_result"
    }
   ],
   "source": [
    "average(1,2,3)"
   ]
  },
  {
   "cell_type": "code",
   "execution_count": 17,
   "id": "3341db1e",
   "metadata": {},
   "outputs": [
    {
     "data": {
      "text/plain": [
       "4.0"
      ]
     },
     "execution_count": 17,
     "metadata": {},
     "output_type": "execute_result"
    }
   ],
   "source": [
    "average(2,4,6)"
   ]
  },
  {
   "cell_type": "code",
   "execution_count": 19,
   "id": "ff7ad2c7",
   "metadata": {},
   "outputs": [],
   "source": [
    "def time2(var):\n",
    "    return var*2"
   ]
  },
  {
   "cell_type": "code",
   "execution_count": 20,
   "id": "6457da2c",
   "metadata": {},
   "outputs": [
    {
     "data": {
      "text/plain": [
       "10"
      ]
     },
     "execution_count": 20,
     "metadata": {},
     "output_type": "execute_result"
    }
   ],
   "source": [
    "time2(5)"
   ]
  },
  {
   "cell_type": "code",
   "execution_count": 21,
   "id": "ff083e13",
   "metadata": {},
   "outputs": [
    {
     "data": {
      "text/plain": [
       "<function __main__.<lambda>(var)>"
      ]
     },
     "execution_count": 21,
     "metadata": {},
     "output_type": "execute_result"
    }
   ],
   "source": [
    "lambda var : var * 2"
   ]
  },
  {
   "cell_type": "code",
   "execution_count": 22,
   "id": "024d17ad",
   "metadata": {},
   "outputs": [
    {
     "data": {
      "text/plain": [
       "6"
      ]
     },
     "execution_count": 22,
     "metadata": {},
     "output_type": "execute_result"
    }
   ],
   "source": [
    "(lambda var: var * 2) (3)"
   ]
  },
  {
   "cell_type": "code",
   "execution_count": 26,
   "id": "25cadd9f",
   "metadata": {},
   "outputs": [
    {
     "data": {
      "text/plain": [
       "[2, 4, 6, 8, 10]"
      ]
     },
     "execution_count": 26,
     "metadata": {},
     "output_type": "execute_result"
    }
   ],
   "source": [
    "seq = [1,2,3,4,5]\n",
    "def time2(var):\n",
    "    return var*2\n",
    "\n",
    "# list(map(time2,seq))\n",
    "\n",
    "list(map(lambda var: var *2, seq))"
   ]
  },
  {
   "cell_type": "code",
   "execution_count": 27,
   "id": "9767157a",
   "metadata": {},
   "outputs": [
    {
     "data": {
      "text/plain": [
       "[1, 2, 3, 4, 5]"
      ]
     },
     "execution_count": 27,
     "metadata": {},
     "output_type": "execute_result"
    }
   ],
   "source": [
    "seq"
   ]
  },
  {
   "cell_type": "code",
   "execution_count": 28,
   "id": "d1171b93",
   "metadata": {},
   "outputs": [
    {
     "data": {
      "text/plain": [
       "[2, 4]"
      ]
     },
     "execution_count": 28,
     "metadata": {},
     "output_type": "execute_result"
    }
   ],
   "source": [
    "list(filter ( lambda var : var % 2 == 0, seq))"
   ]
  },
  {
   "cell_type": "code",
   "execution_count": 29,
   "id": "cab2dc5d",
   "metadata": {},
   "outputs": [
    {
     "data": {
      "text/plain": [
       "'hello my name is sam'"
      ]
     },
     "execution_count": 29,
     "metadata": {},
     "output_type": "execute_result"
    }
   ],
   "source": [
    "# methods\n",
    "\n",
    "st = 'hello my name is Sam'\n",
    "\n",
    "st.lower()"
   ]
  },
  {
   "cell_type": "code",
   "execution_count": 30,
   "id": "e33cfb57",
   "metadata": {},
   "outputs": [
    {
     "data": {
      "text/plain": [
       "'HELLO MY NAME IS SAM'"
      ]
     },
     "execution_count": 30,
     "metadata": {},
     "output_type": "execute_result"
    }
   ],
   "source": [
    "st.upper()"
   ]
  },
  {
   "cell_type": "code",
   "execution_count": 31,
   "id": "001bc7ba",
   "metadata": {},
   "outputs": [
    {
     "data": {
      "text/plain": [
       "['hello', 'my', 'name', 'is', 'Sam']"
      ]
     },
     "execution_count": 31,
     "metadata": {},
     "output_type": "execute_result"
    }
   ],
   "source": [
    "st.split()"
   ]
  },
  {
   "cell_type": "code",
   "execution_count": 32,
   "id": "4292d789",
   "metadata": {},
   "outputs": [
    {
     "data": {
      "text/plain": [
       "['Go Sports! ', 'Sports']"
      ]
     },
     "execution_count": 32,
     "metadata": {},
     "output_type": "execute_result"
    }
   ],
   "source": [
    "tweet = 'Go Sports! #Sports'\n",
    "\n",
    "tweet.split('#')"
   ]
  },
  {
   "cell_type": "code",
   "execution_count": 33,
   "id": "66d6995c",
   "metadata": {},
   "outputs": [],
   "source": [
    "d = {'key1': 'item1', 'key2' : 'item2'}"
   ]
  },
  {
   "cell_type": "code",
   "execution_count": 34,
   "id": "02e62c5a",
   "metadata": {},
   "outputs": [
    {
     "data": {
      "text/plain": [
       "dict_keys(['key1', 'key2'])"
      ]
     },
     "execution_count": 34,
     "metadata": {},
     "output_type": "execute_result"
    }
   ],
   "source": [
    "d.keys()"
   ]
  },
  {
   "cell_type": "code",
   "execution_count": 35,
   "id": "2d4b3bdd",
   "metadata": {},
   "outputs": [
    {
     "data": {
      "text/plain": [
       "dict_items([('key1', 'item1'), ('key2', 'item2')])"
      ]
     },
     "execution_count": 35,
     "metadata": {},
     "output_type": "execute_result"
    }
   ],
   "source": [
    "d.items()"
   ]
  },
  {
   "cell_type": "code",
   "execution_count": 38,
   "id": "ff51bafb",
   "metadata": {},
   "outputs": [
    {
     "name": "stdout",
     "output_type": "stream",
     "text": [
      "[1, 2]\n",
      "[1, 2, 5, 6, 7, 8]\n"
     ]
    }
   ],
   "source": [
    "lst = [1,2,3,5]\n",
    "lst.pop()\n",
    "lst.pop()\n",
    "print(lst)\n",
    "lst.extend([5,6,7,8])\n",
    "print(lst)"
   ]
  },
  {
   "cell_type": "code",
   "execution_count": 39,
   "id": "3dc7e4f1",
   "metadata": {},
   "outputs": [
    {
     "data": {
      "text/plain": [
       "[1, 2, 5, 6, 7, 8]"
      ]
     },
     "execution_count": 39,
     "metadata": {},
     "output_type": "execute_result"
    }
   ],
   "source": [
    "lst "
   ]
  },
  {
   "cell_type": "code",
   "execution_count": 40,
   "id": "aa587108",
   "metadata": {},
   "outputs": [],
   "source": [
    "lst.append([5,5,5])"
   ]
  },
  {
   "cell_type": "code",
   "execution_count": 41,
   "id": "34d0683c",
   "metadata": {},
   "outputs": [
    {
     "data": {
      "text/plain": [
       "[1, 2, 5, 6, 7, 8, [5, 5, 5]]"
      ]
     },
     "execution_count": 41,
     "metadata": {},
     "output_type": "execute_result"
    }
   ],
   "source": [
    "lst"
   ]
  },
  {
   "cell_type": "code",
   "execution_count": 42,
   "id": "49cfe579",
   "metadata": {},
   "outputs": [],
   "source": [
    "lst.append(4)"
   ]
  },
  {
   "cell_type": "code",
   "execution_count": 43,
   "id": "05a3d6c8",
   "metadata": {},
   "outputs": [
    {
     "data": {
      "text/plain": [
       "[1, 2, 5, 6, 7, 8, [5, 5, 5], 4]"
      ]
     },
     "execution_count": 43,
     "metadata": {},
     "output_type": "execute_result"
    }
   ],
   "source": [
    "lst"
   ]
  },
  {
   "cell_type": "code",
   "execution_count": null,
   "id": "30b29212",
   "metadata": {},
   "outputs": [],
   "source": [
    "#exe test\n"
   ]
  }
 ],
 "metadata": {
  "kernelspec": {
   "display_name": "Python 3 (ipykernel)",
   "language": "python",
   "name": "python3"
  },
  "language_info": {
   "codemirror_mode": {
    "name": "ipython",
    "version": 3
   },
   "file_extension": ".py",
   "mimetype": "text/x-python",
   "name": "python",
   "nbconvert_exporter": "python",
   "pygments_lexer": "ipython3",
   "version": "3.11.3"
  }
 },
 "nbformat": 4,
 "nbformat_minor": 5
}
