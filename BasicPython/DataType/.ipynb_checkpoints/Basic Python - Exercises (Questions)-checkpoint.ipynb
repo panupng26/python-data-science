{
 "cells": [
  {
   "cell_type": "markdown",
   "metadata": {},
   "source": [
    "# Exercises: Basic Python (Questions)\n",
    "\n",
    "จงตอบคำถามดังต่อไปนี้  (ให้ใช้ method ตามที่กำหนดให้)"
   ]
  },
  {
   "cell_type": "markdown",
   "metadata": {},
   "source": [
    "**หาค่า 7 ยกกำลัง 4 ?**"
   ]
  },
  {
   "cell_type": "code",
   "execution_count": null,
   "metadata": {},
   "outputs": [],
   "source": [
    "7 ** 4"
   ]
  },
  {
   "cell_type": "markdown",
   "metadata": {},
   "source": [
    "**Split this string:**\n",
    "\n",
    "    s = \"Hi there Sam!\"\n",
    "    \n",
    "**into a list. **"
   ]
  },
  {
   "cell_type": "code",
   "execution_count": 29,
   "metadata": {},
   "outputs": [],
   "source": []
  },
  {
   "cell_type": "code",
   "execution_count": 30,
   "metadata": {},
   "outputs": [
    {
     "data": {
      "text/plain": [
       "['Hi', 'there', 'Sam!']"
      ]
     },
     "execution_count": 30,
     "metadata": {},
     "output_type": "execute_result"
    }
   ],
   "source": []
  },
  {
   "cell_type": "markdown",
   "metadata": {},
   "source": [
    "** กำหนดให้ variables:**\n",
    "\n",
    "    planet = \"Earth\"\n",
    "    diameter = 12742\n",
    "\n",
    "**  จง print ข้อความ string ดังต่อไปนี้ ด้วยคำสั่ง .format(): **\n",
    "\n",
    "    The diameter of Earth is 12742 kilometers."
   ]
  },
  {
   "cell_type": "code",
   "execution_count": 31,
   "metadata": {},
   "outputs": [],
   "source": []
  },
  {
   "cell_type": "code",
   "execution_count": 32,
   "metadata": {},
   "outputs": [
    {
     "name": "stdout",
     "output_type": "stream",
     "text": [
      "The diameter of Earth is 12742 kilometers.\n"
     ]
    }
   ],
   "source": []
  },
  {
   "cell_type": "markdown",
   "metadata": {},
   "source": [
    "** จงใช้ความรู้เรื่อง indexing แล้ว print คำว่า \"hello\" จาก list ที่กำหนดให้ **"
   ]
  },
  {
   "cell_type": "code",
   "execution_count": 33,
   "metadata": {},
   "outputs": [],
   "source": []
  },
  {
   "cell_type": "code",
   "execution_count": 34,
   "metadata": {},
   "outputs": [
    {
     "name": "stdout",
     "output_type": "stream",
     "text": [
      "hello\n"
     ]
    }
   ],
   "source": []
  },
  {
   "cell_type": "markdown",
   "metadata": {},
   "source": [
    "** จง print คำว่า hello\" จาก dictionary ที่กำหนดให้ **"
   ]
  },
  {
   "cell_type": "code",
   "execution_count": 35,
   "metadata": {},
   "outputs": [],
   "source": []
  },
  {
   "cell_type": "code",
   "execution_count": 36,
   "metadata": {},
   "outputs": [
    {
     "data": {
      "text/plain": [
       "'hello'"
      ]
     },
     "execution_count": 36,
     "metadata": {},
     "output_type": "execute_result"
    }
   ],
   "source": []
  },
  {
   "cell_type": "markdown",
   "metadata": {},
   "source": [
    "** จงบอกข้อแตกต่างหลักๆระหว่าง tuple และ list **"
   ]
  },
  {
   "cell_type": "code",
   "execution_count": 37,
   "metadata": {},
   "outputs": [],
   "source": []
  },
  {
   "cell_type": "markdown",
   "metadata": {},
   "source": [
    "** จงสร้าง function ที่ทำหน้าที่กำหนด website domain ด้วนการ input email ที่เป็นตัวแปรประเภท string หรือข้อความในรูปแบบดังต้อไปนี้: **\n",
    "\n",
    "    user@domain.com\n",
    "    \n",
    "**Example, ให้ค่า input คือ \"user@domain.com\" จากนั้นให้ return \"domain.com\" ออกมา**"
   ]
  },
  {
   "cell_type": "code",
   "execution_count": 38,
   "metadata": {},
   "outputs": [],
   "source": []
  },
  {
   "cell_type": "code",
   "execution_count": 39,
   "metadata": {},
   "outputs": [
    {
     "data": {
      "text/plain": [
       "'domain.com'"
      ]
     },
     "execution_count": 39,
     "metadata": {},
     "output_type": "execute_result"
    }
   ],
   "source": []
  },
  {
   "cell_type": "markdown",
   "metadata": {},
   "source": [
    "** จงสร้าง function ที่ทำหน้านี้ returns ค่า Boolean ถ้าเจอคำว่า 'dog' ใน input string ให้ return True นอกนั้น False โดยจะต้องไม่มี punctuation ติดอยู่กับคำว่า dog ได้ แต่ว่าเป็นอักษร พิมพ์ใหญ่ หรือ พิมพ์เล็กก็ได้ **"
   ]
  },
  {
   "cell_type": "code",
   "execution_count": 40,
   "metadata": {},
   "outputs": [],
   "source": []
  },
  {
   "cell_type": "code",
   "execution_count": 41,
   "metadata": {},
   "outputs": [
    {
     "data": {
      "text/plain": [
       "True"
      ]
     },
     "execution_count": 41,
     "metadata": {},
     "output_type": "execute_result"
    }
   ],
   "source": []
  },
  {
   "cell_type": "markdown",
   "metadata": {},
   "source": [
    "** จงสร้าง function ที่ return จำนวนของคำว่า \"dog\" ที่ปรากฏใน input ที่เป็น string ที่อักษร พิมพ์ใหญ่ หรือ พิมพ์เล็กก็ได้. **"
   ]
  },
  {
   "cell_type": "code",
   "execution_count": 42,
   "metadata": {},
   "outputs": [],
   "source": []
  },
  {
   "cell_type": "code",
   "execution_count": 43,
   "metadata": {},
   "outputs": [
    {
     "data": {
      "text/plain": [
       "2"
      ]
     },
     "execution_count": 43,
     "metadata": {},
     "output_type": "execute_result"
    }
   ],
   "source": []
  },
  {
   "cell_type": "markdown",
   "metadata": {},
   "source": [
    "** ให้ใช้ lambda expressions และ ฟังก์ชั้น filter() เพื่อทำการ filter หรือตัดคำที่อยู่ใน list ที่ไม่มีอักษร 's' ออก เช่น**\n",
    "\n",
    "    seq = ['soup','dog','salad','cat','great']\n",
    "\n",
    "**หลังจาก filter และจะต้องเป็นดังนี้**\n",
    "\n",
    "    ['soup','salad']"
   ]
  },
  {
   "cell_type": "code",
   "execution_count": 44,
   "metadata": {},
   "outputs": [],
   "source": []
  },
  {
   "cell_type": "code",
   "execution_count": 45,
   "metadata": {},
   "outputs": [
    {
     "data": {
      "text/plain": [
       "['soup', 'salad']"
      ]
     },
     "execution_count": 45,
     "metadata": {},
     "output_type": "execute_result"
    }
   ],
   "source": []
  },
  {
   "cell_type": "markdown",
   "metadata": {},
   "source": [
    "### Final Problem\n",
    "**จงเขียนโปรแกรมช่วยเจ้าหน้าตำรวจคำนวณค่าปรับการในการตรวจจับผู้ที่ขับเร็วเกินกำหนด โดยให้ return ดังนี้**\n",
    "- return :  \"No ticket\" หากขับรถที่ความไม่เกิน 60 km/hr\n",
    "- return :  \"Small ticket\" หากขับรถที่ความเร็วเกินกว่า 60 km/hr แต่ไม่เกิน 80 km/hr\n",
    "- return :  \"Big ticket\"หากขับรถที่ความเร็วเกินกว่า 80 km/hr ขึ้นไป\n",
    "ในการตรวจจับความเร็วนี้ มีกฏอยู่ว่า ถ้าเป็นวันเกิดของผู้ขับ ความเร็วที่ตรวจจะต่ำกว่าความเป็นจริง 5 km/hr (parameter ในการระบุวันเกิด ให้ใช้ตัวแปรประเภท boolean)\n"
   ]
  },
  {
   "cell_type": "code",
   "execution_count": 46,
   "metadata": {},
   "outputs": [],
   "source": []
  },
  {
   "cell_type": "code",
   "execution_count": 47,
   "metadata": {},
   "outputs": [
    {
     "data": {
      "text/plain": [
       "'Small Ticket'"
      ]
     },
     "execution_count": 47,
     "metadata": {},
     "output_type": "execute_result"
    }
   ],
   "source": []
  },
  {
   "cell_type": "code",
   "execution_count": 49,
   "metadata": {},
   "outputs": [
    {
     "data": {
      "text/plain": [
       "'Big Ticket'"
      ]
     },
     "execution_count": 49,
     "metadata": {},
     "output_type": "execute_result"
    }
   ],
   "source": []
  },
  {
   "cell_type": "markdown",
   "metadata": {},
   "source": [
    "### ----- ภาวนามยปัญญา ปัญญาที่เกิดจากการลงมือทำ! -----"
   ]
  }
 ],
 "metadata": {
  "kernelspec": {
   "display_name": "Python 3 (ipykernel)",
   "language": "python",
   "name": "python3"
  },
  "language_info": {
   "codemirror_mode": {
    "name": "ipython",
    "version": 3
   },
   "file_extension": ".py",
   "mimetype": "text/x-python",
   "name": "python",
   "nbconvert_exporter": "python",
   "pygments_lexer": "ipython3",
   "version": "3.8.5"
  }
 },
 "nbformat": 4,
 "nbformat_minor": 1
}
